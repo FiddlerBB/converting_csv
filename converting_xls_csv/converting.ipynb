{
 "cells": [
  {
   "cell_type": "code",
   "execution_count": 1,
   "metadata": {},
   "outputs": [],
   "source": [
    "import pandas as pd\n",
    "import os\n",
    "import glob\n",
    "import shutil"
   ]
  },
  {
   "cell_type": "code",
   "execution_count": null,
   "metadata": {},
   "outputs": [],
   "source": [
    "sample_path = 'sample'\n",
    "xls_path = 'sample/*.xls'\n",
    "new_path = 'sample_out'\n",
    "csv_path = f'{new_path}/*.csv'\n",
    "\n",
    "def create_folder(new_path):\n",
    "    if not os.path.exists(new_path):\n",
    "        os.makedirs(new_path)\n",
    "    else:\n",
    "        shutil.rmtree(new_path)\n",
    "    os.makedirs(new_path)\n",
    "\n",
    "\n",
    "def convert_csv(xls_path):\n",
    "    for file in glob.glob(xls_path):\n",
    "        name = os.path.basename(file)\n",
    "        df = pd.read_excel(file)\n",
    "        df.to_csv(f'{new_path}/{name[:-3]}csv', index=None)\n",
    "\n",
    "def combine_csv(csv_path):\n",
    "    df = pd.DataFrame()\n",
    "    for file in glob.glob(csv_path):\n",
    "        name = os.path.basename(file)\n",
    "        df = pd.concat([df, pd.read_csv(file)])\n",
    "    df.to_csv('combined.csv', index=False)\n",
    "\n",
    "create_folder(new_path)\n",
    "convert_csv(xls_path)\n",
    "combine_csv(csv_path)"
   ]
  }
 ],
 "metadata": {
  "kernelspec": {
   "display_name": "Python 3.8.10 64-bit (microsoft store)",
   "language": "python",
   "name": "python3"
  },
  "language_info": {
   "codemirror_mode": {
    "name": "ipython",
    "version": 3
   },
   "file_extension": ".py",
   "mimetype": "text/x-python",
   "name": "python",
   "nbconvert_exporter": "python",
   "pygments_lexer": "ipython3",
   "version": "3.8.10"
  },
  "orig_nbformat": 4,
  "vscode": {
   "interpreter": {
    "hash": "ba4e8d177d81c0fe6cb79f0e3c305f3b4aa9ecdb87b91de541b76515acc8b6fa"
   }
  }
 },
 "nbformat": 4,
 "nbformat_minor": 2
}
